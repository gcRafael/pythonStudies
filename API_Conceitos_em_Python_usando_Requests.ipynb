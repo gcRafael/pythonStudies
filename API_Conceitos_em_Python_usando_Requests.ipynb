{
  "nbformat": 4,
  "nbformat_minor": 0,
  "metadata": {
    "colab": {
      "name": "API Conceitos em Python usando Requests.ipynb",
      "provenance": []
    },
    "kernelspec": {
      "name": "python3",
      "display_name": "Python 3"
    }
  },
  "cells": [
    {
      "cell_type": "markdown",
      "metadata": {
        "id": "ffHH04YRmohp"
      },
      "source": [
        "## Instalando o pacote Requests."
      ]
    },
    {
      "cell_type": "code",
      "metadata": {
        "id": "nUNsPeRrg4Nh"
      },
      "source": [
        "pip install requests"
      ],
      "execution_count": null,
      "outputs": []
    },
    {
      "cell_type": "markdown",
      "metadata": {
        "id": "nhcZIBCXm4bW"
      },
      "source": [
        "## Executando do código que importa o Requests, e criando o script para consumir a API de consulta de CEP fornecida pelo https://viacep.com.br/\n",
        "\n"
      ]
    },
    {
      "cell_type": "code",
      "metadata": {
        "id": "nCg2Me95hU6k"
      },
      "source": [
        "import requests\n",
        "\n",
        "def main():\n",
        "\tprint('####################')\n",
        "\tprint('### Consulta CEP ###')\n",
        "\tprint('####################')\n",
        "\tprint()\n",
        "\n",
        "\tcep_input = input('Digite o CEP para a consulta: ')\n",
        "\n",
        "\tif len(cep_input) != 8:\n",
        "\t\tprint('Quantidade de dígitos inválida!')\n",
        "\t\texit()\n",
        "\n",
        "\trequest = requests.get('https://viacep.com.br/ws/{}/json/'.format(cep_input))\n",
        "\n",
        "\taddress_data = request.json()\n",
        "\n",
        "\tif 'erro' not in address_data:\n",
        "\t\tprint('CEP Encontrado')\n",
        "\t\t\n",
        "\t\tprint('CEP: {}'.format(address_data['cep']))\n",
        "\t\tprint('Logradouro: {}'.format(address_data['logradouro']))\n",
        "\t\tprint('Complemento: {}'.format(address_data['complemento']))\n",
        "\t\tprint('Bairro: {}'.format(address_data['bairro']))\n",
        "\t\tprint('Cidade: {}'.format(address_data['localidade']))\n",
        "\t\tprint('Estado: {}'.format(address_data['uf']))\n",
        "\t\t\n",
        "\telse:\n",
        "\t\tprint('{}: CEP inválido.'.format(cep_input))\n",
        "\n",
        "\tprint('---------------------------------')\n",
        "\toption = int(input('Deseja buscar outro CEP?\\n1. Sim\\n2. Sair\\n'))\n",
        "\tif option == 1:\n",
        "\t\tmain()\n",
        "\telse:\n",
        "\t\tprint('Até logo')\n",
        "\n",
        "if __name__ == '__main__':\n",
        "\tmain()"
      ],
      "execution_count": null,
      "outputs": []
    },
    {
      "cell_type": "code",
      "metadata": {
        "id": "Lfitk3WKhjYn"
      },
      "source": [
        ""
      ],
      "execution_count": null,
      "outputs": []
    }
  ]
}