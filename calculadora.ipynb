{
  "nbformat": 4,
  "nbformat_minor": 0,
  "metadata": {
    "colab": {
      "name": "Cópia de Calculadora.ipynb",
      "provenance": []
    },
    "kernelspec": {
      "name": "python3",
      "display_name": "Python 3"
    }
  },
  "cells": [
    {
      "cell_type": "code",
      "metadata": {
        "id": "ce-Gyl6wgqqv",
        "colab_type": "code",
        "colab": {
          "base_uri": "https://localhost:8080/",
          "height": 293
        },
        "outputId": "1aeda91f-9980-4e24-b254-4e4cdf9afe98"
      },
      "source": [
        "def calcular():\n",
        "    operacao = input('''\n",
        "Selecione qual operação matemática gostaria de fazer:\n",
        "+ para adição\n",
        "- para subtração\n",
        "* para multiplicação\n",
        "/ para divisão''')\n",
        "\n",
        "    numero_1 = int(input('Insira o primeiro número: '))\n",
        "    numero_2 = int(input('Insira o segundo número: '))\n",
        "\n",
        "    if operacao == '+':\n",
        "        print('{} + {} = '.format(numero_1, numero_2))\n",
        "        print(numero_1 + numero_2)\n",
        "\n",
        "    elif operacao == '-':\n",
        "        print('{} - {} = '.format(numero_1, numero_2))\n",
        "        print(numero_1 - numero_2)\n",
        "\n",
        "    elif operacao == '*':\n",
        "        print('{} * {} = '.format(numero_1, numero_2))\n",
        "        print(numero_1 * numero_2)\n",
        "\n",
        "    elif operacao == '/':\n",
        "        print('{} / {} = '.format(numero_1, numero_2))\n",
        "        print(numero_1 / numero_2)\n",
        "\n",
        "    else:\n",
        "        print('Você não selecionou um operador válido, rode o programa novamente')\n",
        "\n",
        "    recalcular()\n",
        "\n",
        "def recalcular():\n",
        "    operacao_re = input('''\n",
        "Gostaria de fazer outro calculo?\n",
        "Digite S para Sim, e N para Não.\n",
        "''')\n",
        "\n",
        "    if operacao_re.upper() == 'S':\n",
        "        calcular()\n",
        "    elif operacao_re.upper() == 'N':\n",
        "        print('Até mais.')\n",
        "    else:\n",
        "        again()\n",
        "\n",
        "calcular()"
      ],
      "execution_count": null,
      "outputs": [
        {
          "output_type": "stream",
          "text": [
            "\n",
            "Selecione qual operação matemática gostaria de fazer:\n",
            "+ para adição\n",
            "- para subtração\n",
            "* para multiplicação\n",
            "/ para divisão*\n",
            "Insira o primeiro número: 2\n",
            "Insira o segundo número: 2\n",
            "2 * 2 = \n",
            "4\n",
            "\n",
            "Gostaria de fazer outro calculo?\n",
            "Digite S para Sim, e N para Não.\n",
            "n\n",
            "Até mais.\n"
          ],
          "name": "stdout"
        }
      ]
    },
    {
      "cell_type": "code",
      "metadata": {
        "id": "dvHq0Cz9gryd",
        "colab_type": "code",
        "colab": {}
      },
      "source": [
        ""
      ],
      "execution_count": null,
      "outputs": []
    }
  ]
}